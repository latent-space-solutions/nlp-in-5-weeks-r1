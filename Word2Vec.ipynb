{
  "nbformat": 4,
  "nbformat_minor": 0,
  "metadata": {
    "colab": {
      "provenance": []
    },
    "kernelspec": {
      "name": "python3",
      "display_name": "Python 3"
    },
    "language_info": {
      "name": "python"
    }
  },
  "cells": [
    {
      "cell_type": "code",
      "execution_count": null,
      "metadata": {
        "id": "r3NBUP1hOFsc"
      },
      "outputs": [],
      "source": [
        "import matplotlib.pyplot as plt \n",
        "import torch"
      ]
    },
    {
      "cell_type": "markdown",
      "source": [
        "Distributional Semantics vs Denotational Semantics \n",
        "\n",
        "\"You shall know a word by the company it keeps\" (J.R. Firth 1957)\n",
        "\n",
        "The words meaning is defined by the words in its context. \n",
        "\n",
        "Wittgenstein's use theory of meaning. "
      ],
      "metadata": {
        "id": "sUGFhXy6O75y"
      }
    },
    {
      "cell_type": "markdown",
      "source": [
        "Word: token is one string \"banking\"; type - use and meaning banking has across instances\n",
        "\n",
        "word vectors / word embeddings / neural word representations \n",
        "embeddings because it's a vector space"
      ],
      "metadata": {
        "id": "jq9XBzYaPzDz"
      }
    },
    {
      "cell_type": "code",
      "source": [],
      "metadata": {
        "id": "I49kry8uQRlR"
      },
      "execution_count": null,
      "outputs": []
    },
    {
      "cell_type": "markdown",
      "source": [
        "$likelihood = L(θ) = \\prod_\\limits{t=1}^{T}\\prod\\limits_{\\substack{-m\\leq j \\leq m \\\\ j \\neq 0}}P(w_{t+j}\\mid \n",
        "w_t;θ)$"
      ],
      "metadata": {
        "id": "F8owZw0eTRN4"
      }
    },
    {
      "cell_type": "code",
      "source": [
        "corpus = [\"hello\", \"world\", \"this\", \"is\", \"a\", \"signal\", \"from\", \"outer\", \"space\"]\n",
        "T=len(corpus)\n",
        "T"
      ],
      "metadata": {
        "colab": {
          "base_uri": "https://localhost:8080/"
        },
        "id": "nn8SjzRTPygF",
        "outputId": "3f7444d2-e1fe-46d5-a27c-cbfd4ef9d190"
      },
      "execution_count": null,
      "outputs": [
        {
          "output_type": "execute_result",
          "data": {
            "text/plain": [
              "9"
            ]
          },
          "metadata": {},
          "execution_count": 4
        }
      ]
    },
    {
      "cell_type": "code",
      "source": [
        "m = 2\n",
        "for t in range(T):\n",
        "\n",
        "  window = [] \n",
        "  for j in range(-m, m+1):\n",
        "    if j == 0: \n",
        "      continue\n",
        "    if t + j < 0 or t + j >= len(corpus):\n",
        "      continue \n",
        "    window.append(corpus[t+j])\n",
        "  print(corpus[t] + \": \" +\" \".join(window))\n"
      ],
      "metadata": {
        "colab": {
          "base_uri": "https://localhost:8080/"
        },
        "id": "XMhKnSeXVfTu",
        "outputId": "e2cd3dd5-c020-4d29-a6ba-a5c9e6fa9033"
      },
      "execution_count": null,
      "outputs": [
        {
          "output_type": "stream",
          "name": "stdout",
          "text": [
            "hello: world this\n",
            "world: hello this is\n",
            "this: hello world is a\n",
            "is: world this a signal\n",
            "a: this is signal from\n",
            "signal: is a from outer\n",
            "from: a signal outer space\n",
            "outer: signal from space\n",
            "space: from outer\n"
          ]
        }
      ]
    },
    {
      "cell_type": "markdown",
      "source": [
        "Average Negative Log Likelihood\n",
        "\n",
        "$Loss Function = -\\frac{1}{T} \\log L(\\theta) =-\\frac{1}{T} \\sum \\limits_{t=1}^{T}\\sum\\limits_{\\substack{-c\\leq j \\leq c \\\\ j \\neq 0}}\\log P(w_{t+j}\\mid \n",
        "w_t;θ)$"
      ],
      "metadata": {
        "id": "gQR3rwaaXS2X"
      }
    },
    {
      "cell_type": "code",
      "source": [
        "ps = torch.linspace(0, 1, 500)\n",
        "y = torch.log(ps)\n",
        "fig, ax = plt.subplots(1,1\n",
        "                       , figsize=(10,3))\n",
        "ax.set_title(\"plot y = f(x,a)\")\n",
        "ax.plot(ps,y)\n"
      ],
      "metadata": {
        "colab": {
          "base_uri": "https://localhost:8080/",
          "height": 245
        },
        "id": "h8e8Ra38WnYT",
        "outputId": "c2f3baba-bc24-4350-95ba-e573f7f2a480"
      },
      "execution_count": null,
      "outputs": [
        {
          "output_type": "execute_result",
          "data": {
            "text/plain": [
              "[<matplotlib.lines.Line2D at 0x7fa569837bd0>]"
            ]
          },
          "metadata": {},
          "execution_count": 24
        },
        {
          "output_type": "display_data",
          "data": {
            "text/plain": [
              "<Figure size 720x216 with 1 Axes>"
            ],
            "image/png": "[encoded data removed]"
          },
          "metadata": {
            "needs_background": "light"
          }
        }
      ]
    },
    {
      "cell_type": "markdown",
      "source": [
        "log at $0$ is $-∞$\n",
        "\n",
        "log at $1$ is $0$"
      ],
      "metadata": {
        "id": "vLbAn7p4cY4x"
      }
    },
    {
      "cell_type": "markdown",
      "source": [
        "Assume a word is in the context window but the probability is currently at 0. \n",
        "\n",
        "Then the log prob is $-∞$ and the loss function will be $- - ∞ = + ∞$. \n",
        "\n",
        "Therefore, any optimization algorithm would increase the probability of a context word until the probability is getting closer to 1. "
      ],
      "metadata": {
        "id": "eDNicWjIcyAg"
      }
    },
    {
      "cell_type": "markdown",
      "source": [
        "### How do we calculate the $P(w_{t+j}\\mid \n",
        "w_t;θ)$? \n"
      ],
      "metadata": {
        "id": "qTnQ4zMjdSyd"
      }
    },
    {
      "cell_type": "markdown",
      "source": [
        "$v_w$ vector for word $w$ if it is in the center. \n",
        "\n",
        "$u_w$ vector for word $w$ if it is in the context window. \n"
      ],
      "metadata": {
        "id": "F66QZpWoibwH"
      }
    },
    {
      "cell_type": "markdown",
      "source": [
        "$softmax = P(w_{O} \\mid w_{I}) = \\frac{\\exp (u_{o}^{T} v_{i}) }{∑\\limits_{w=1}^W \\exp(u_w^Tv_{i})} $"
      ],
      "metadata": {
        "id": "BinXllx7jKne"
      }
    },
    {
      "cell_type": "markdown",
      "source": [
        "Let's assume a dimension of 5 per word vector. "
      ],
      "metadata": {
        "id": "ofYdKcnRmRK4"
      }
    },
    {
      "cell_type": "code",
      "source": [
        "unique_corpus = list(set(corpus))\n",
        "W = len(unique_corpus)\n",
        "W"
      ],
      "metadata": {
        "colab": {
          "base_uri": "https://localhost:8080/"
        },
        "id": "CyKKCzxAbbn5",
        "outputId": "a8e3059e-8274-4759-8c34-73aa6709b7aa"
      },
      "execution_count": null,
      "outputs": [
        {
          "output_type": "execute_result",
          "data": {
            "text/plain": [
              "9"
            ]
          },
          "metadata": {},
          "execution_count": 26
        }
      ]
    },
    {
      "cell_type": "code",
      "source": [
        "torch.rand(5)"
      ],
      "metadata": {
        "colab": {
          "base_uri": "https://localhost:8080/"
        },
        "id": "ab4pv4Brmy7z",
        "outputId": "7b738d8e-c0a9-4be3-bf62-ff5b1c87112b"
      },
      "execution_count": null,
      "outputs": [
        {
          "output_type": "execute_result",
          "data": {
            "text/plain": [
              "tensor([0.8125, 0.9213, 0.2213, 0.3201, 0.8874])"
            ]
          },
          "metadata": {},
          "execution_count": 27
        }
      ]
    },
    {
      "cell_type": "code",
      "source": [
        "v = [torch.rand(5) for _ in range(W)]\n",
        "u = [torch.rand(5) for _ in range(W)] "
      ],
      "metadata": {
        "id": "PqxrMftJmc2G"
      },
      "execution_count": null,
      "outputs": []
    },
    {
      "cell_type": "code",
      "source": [
        "v"
      ],
      "metadata": {
        "colab": {
          "base_uri": "https://localhost:8080/"
        },
        "id": "o3MYh8N9m3m5",
        "outputId": "4b7e6626-ca3b-4b5d-8c26-1ef8d57b2ec4"
      },
      "execution_count": null,
      "outputs": [
        {
          "output_type": "execute_result",
          "data": {
            "text/plain": [
              "[tensor([0.9836, 0.1184, 0.0610, 0.8791, 0.0413]),\n",
              " tensor([0.3349, 0.3526, 0.9834, 0.9293, 0.0624]),\n",
              " tensor([0.3432, 0.3523, 0.3662, 0.1719, 0.5509]),\n",
              " tensor([0.8753, 0.0727, 0.3163, 0.9933, 0.2437]),\n",
              " tensor([0.0378, 0.2999, 0.1218, 0.3631, 0.7286]),\n",
              " tensor([0.6073, 0.4191, 0.9365, 0.9983, 0.6297]),\n",
              " tensor([0.2665, 0.4492, 0.3298, 0.4209, 0.7204]),\n",
              " tensor([0.0554, 0.1262, 0.9130, 0.8364, 0.7958]),\n",
              " tensor([0.0310, 0.6926, 0.6026, 0.2033, 0.5801])]"
            ]
          },
          "metadata": {},
          "execution_count": 31
        }
      ]
    },
    {
      "cell_type": "code",
      "source": [
        "center = 7\n",
        "context = 8\n",
        "corpus[7], corpus[8]"
      ],
      "metadata": {
        "colab": {
          "base_uri": "https://localhost:8080/"
        },
        "id": "h-b2TSVlm7NW",
        "outputId": "25555ada-34dc-47df-852b-15d337704e58"
      },
      "execution_count": null,
      "outputs": [
        {
          "output_type": "execute_result",
          "data": {
            "text/plain": [
              "('outer', 'space')"
            ]
          },
          "metadata": {},
          "execution_count": 36
        }
      ]
    },
    {
      "cell_type": "code",
      "source": [
        "factor = numerator = torch.exp(torch.dot(u[context], v[center]))\n",
        "factor"
      ],
      "metadata": {
        "colab": {
          "base_uri": "https://localhost:8080/"
        },
        "id": "9XIysVJIm5nL",
        "outputId": "cdf6f118-9517-470b-845c-97b2b60dde3c"
      },
      "execution_count": null,
      "outputs": [
        {
          "output_type": "execute_result",
          "data": {
            "text/plain": [
              "tensor(5.3496)"
            ]
          },
          "metadata": {},
          "execution_count": 41
        }
      ]
    },
    {
      "cell_type": "code",
      "source": [
        "normalization_constant = 0\n",
        "for w in range(W): \n",
        "  normalization_constant += torch.dot(u[w], v[center])\n",
        "normalization_constant"
      ],
      "metadata": {
        "colab": {
          "base_uri": "https://localhost:8080/"
        },
        "id": "GZZ-1rO0tprv",
        "outputId": "01c4aacc-f627-407b-a6a6-ab227dd9f06f"
      },
      "execution_count": null,
      "outputs": [
        {
          "output_type": "execute_result",
          "data": {
            "text/plain": [
              "tensor(11.7670)"
            ]
          },
          "metadata": {},
          "execution_count": 43
        }
      ]
    },
    {
      "cell_type": "code",
      "source": [
        "p = factor / normalization_constant\n",
        "p"
      ],
      "metadata": {
        "colab": {
          "base_uri": "https://localhost:8080/"
        },
        "id": "BvRv3hV3uPtA",
        "outputId": "53ac672c-dd2e-4a2d-8e2a-f72edd850528"
      },
      "execution_count": null,
      "outputs": [
        {
          "output_type": "execute_result",
          "data": {
            "text/plain": [
              "tensor(0.4546)"
            ]
          },
          "metadata": {},
          "execution_count": 44
        }
      ]
    },
    {
      "cell_type": "code",
      "source": [
        "def prob(center, context): \n",
        "  factor = torch.exp(torch.dot(u[context], v[center]))\n",
        "  normalization_constant = 0\n",
        "  for w in range(W): \n",
        "    normalization_constant += torch.dot(u[w], v[center])\n",
        "  return factor / normalization_constant"
      ],
      "metadata": {
        "id": "VlUICsiFvA3i"
      },
      "execution_count": null,
      "outputs": []
    },
    {
      "cell_type": "code",
      "source": [
        "prob(7,8)"
      ],
      "metadata": {
        "colab": {
          "base_uri": "https://localhost:8080/"
        },
        "id": "SeYONe5hvVO8",
        "outputId": "5273dd1a-ccf3-4d86-ab40-960aff36f939"
      },
      "execution_count": null,
      "outputs": [
        {
          "output_type": "execute_result",
          "data": {
            "text/plain": [
              "tensor(0.4546)"
            ]
          },
          "metadata": {},
          "execution_count": 47
        }
      ]
    },
    {
      "cell_type": "code",
      "source": [
        "prob(8,7)"
      ],
      "metadata": {
        "colab": {
          "base_uri": "https://localhost:8080/"
        },
        "id": "OqRtEiVGvloG",
        "outputId": "41160718-cf9c-475c-8143-b76995c2b10c"
      },
      "execution_count": null,
      "outputs": [
        {
          "output_type": "execute_result",
          "data": {
            "text/plain": [
              "tensor(0.3007)"
            ]
          },
          "metadata": {},
          "execution_count": 48
        }
      ]
    },
    {
      "cell_type": "code",
      "source": [
        "corpus[8], corpus[7]"
      ],
      "metadata": {
        "colab": {
          "base_uri": "https://localhost:8080/"
        },
        "id": "Jzomr3wDvmuw",
        "outputId": "6af94d43-d541-46de-9349-bc04fe47d2d2"
      },
      "execution_count": null,
      "outputs": [
        {
          "output_type": "execute_result",
          "data": {
            "text/plain": [
              "('space', 'outer')"
            ]
          },
          "metadata": {},
          "execution_count": 49
        }
      ]
    },
    {
      "cell_type": "markdown",
      "source": [
        "## From randomness to order: how do we update word vectors? "
      ],
      "metadata": {
        "id": "Kf7_O2WlxtWu"
      }
    },
    {
      "cell_type": "markdown",
      "source": [
        "### The Math"
      ],
      "metadata": {
        "id": "Aj_575aIgR8V"
      }
    },
    {
      "cell_type": "markdown",
      "source": [
        "$\\frac{\\partial}{\\partial v_i} \\log P(w_o \\mid w_i) =\\frac{\\partial}{\\partial v_i} \\log \\frac{\\exp (u_o^Tv_{i})}{\\sum \\limits_{w=1}^W \\exp (u_w^T v_i)}$\n"
      ],
      "metadata": {
        "id": "kyTfL6YKyRVH"
      }
    },
    {
      "cell_type": "markdown",
      "source": [
        "$=\\frac{\\partial}{\\partial v_i} \\log \\exp (u_o^T v_i) - \\frac{\\partial}{\\partial v_i} \\log \\sum \\limits_{w=1}^W \\exp (u_w^T v_i) $ "
      ],
      "metadata": {
        "id": "I06qJesy1fLy"
      }
    },
    {
      "cell_type": "markdown",
      "source": [
        "$=u_o - \\frac{\\partial}{\\partial v_i}  \\log  \\sum  \\limits_{w=1}^W \\exp (u_w^T  v_i) $ "
      ],
      "metadata": {
        "id": "RDG_W56C2VDJ"
      }
    },
    {
      "cell_type": "markdown",
      "source": [
        "$=u_o- \\frac{1}{\\sum \\limits_{w=1}^W \\exp (u_w^T v_i)} \\sum \\limits_{k=1}^W \\exp (u_k^T v_i) \\frac{\\partial}{\\partial v_i}(u_k^T v_i) $ "
      ],
      "metadata": {
        "id": "4XsA8Lrx2VK6"
      }
    },
    {
      "cell_type": "markdown",
      "source": [
        "$=u_o - \\frac{1}{\\sum \\limits_{w=1}^W \\exp (u_w^T v_i)} \\sum \\limits_{k=1}^W  \\exp (u_k^T v_i) u_k $ "
      ],
      "metadata": {
        "id": "y96AXNSC3c6L"
      }
    },
    {
      "cell_type": "markdown",
      "source": [
        "$=u_o -\\sum \\limits_{k=1}^W \\frac{\\exp (u_k^T v_i)}{\\sum \\limits_{w=1}^W \\exp (u_w^T v_i)}   u_k $ "
      ],
      "metadata": {
        "id": "9r7WpuSe3c8K"
      }
    },
    {
      "cell_type": "markdown",
      "source": [
        "$=u_o -\\sum \\limits_{k=1}^W P(u_k \\mid v_i )   u_k $ "
      ],
      "metadata": {
        "id": "yzVQW7C8444l"
      }
    },
    {
      "cell_type": "markdown",
      "source": [
        "Similarly for ... \n",
        "\n"
      ],
      "metadata": {
        "id": "rvuQLomN5nHm"
      }
    },
    {
      "cell_type": "markdown",
      "source": [
        "$\\frac{\\partial}{\\partial u_o} \\log P(w_o \\mid w_i) =\\frac{\\partial}{\\partial u_o} \\log \\frac{\\exp (u_o^Tv_{i})}{\\sum \\limits_{w=1}^W \\exp (u_w^T v_i)}$\n"
      ],
      "metadata": {
        "id": "yGry_IjHmkmv"
      }
    },
    {
      "cell_type": "markdown",
      "source": [
        "$=\\frac{\\partial}{\\partial u_o} \\log \\exp (u_o^T v_i) - \\frac{\\partial}{\\partial u_o} \\log \\sum \\limits_{w=1}^W \\exp (u_w^T v_i) $ "
      ],
      "metadata": {
        "id": "v9eLAcfKmkmx"
      }
    },
    {
      "cell_type": "markdown",
      "source": [
        "$=v_i^T - \\frac{\\partial}{\\partial u_o}  \\log  \\sum  \\limits_{w=1}^W \\exp (u_w^T  v_i) $ "
      ],
      "metadata": {
        "id": "I9vcId-Kmkmx"
      }
    },
    {
      "cell_type": "markdown",
      "source": [
        "$=v_i^T- \\frac{1}{\\sum \\limits_{w=1}^W \\exp (u_w^T v_i)} \\sum \\limits_{k=1}^W \\exp (u_k^T v_i) \\frac{\\partial}{\\partial u_o}(u_k^T v_i) $ "
      ],
      "metadata": {
        "id": "rRgwMaemmkmy"
      }
    },
    {
      "cell_type": "markdown",
      "source": [
        "$u_k^T v_i$ is $0$ unless $k=o$"
      ],
      "metadata": {
        "id": "I3PbGz8mm-cx"
      }
    },
    {
      "cell_type": "markdown",
      "source": [
        "$=v_i^T - \\frac{1}{\\sum \\limits_{w=1}^W \\exp (u_w^T v_i)}  \\exp (u_o^T v_i) v_i^T $ "
      ],
      "metadata": {
        "id": "0p3TPEKwmkmy"
      }
    },
    {
      "cell_type": "markdown",
      "source": [
        "$=v_i^T -\\frac{\\exp (u_o^T v_i)}{\\sum \\limits_{w=1}^W \\exp (u_w^T v_i)}   v_i^T $ "
      ],
      "metadata": {
        "id": "0w95BAE7mkmy"
      }
    },
    {
      "cell_type": "markdown",
      "source": [
        "$=v_i^T - P(u_o \\mid v_i )   v_i^T $ "
      ],
      "metadata": {
        "id": "T11_SD-lmkmz"
      }
    },
    {
      "cell_type": "markdown",
      "source": [],
      "metadata": {
        "id": "4f3Ucz4S3c-x"
      }
    },
    {
      "cell_type": "code",
      "source": [
        " @ torch.arange(3).float().reshape(3,1).T "
      ],
      "metadata": {
        "colab": {
          "base_uri": "https://localhost:8080/"
        },
        "id": "eHYLvd6YxbmN",
        "outputId": "d91ca2cd-7bb6-4e0d-a55f-4ad03a022253"
      },
      "execution_count": null,
      "outputs": [
        {
          "output_type": "execute_result",
          "data": {
            "text/plain": [
              "tensor([[0., 1., 2.],\n",
              "        [0., 1., 2.],\n",
              "        [0., 1., 2.]])"
            ]
          },
          "metadata": {},
          "execution_count": 18
        }
      ]
    },
    {
      "cell_type": "code",
      "source": [
        "torch.arange(3).float().reshape(3,1)"
      ],
      "metadata": {
        "colab": {
          "base_uri": "https://localhost:8080/"
        },
        "id": "TtWC_NTD1I_q",
        "outputId": "e0537ac7-db09-46d4-fd2c-a8d96b1255e0"
      },
      "execution_count": null,
      "outputs": [
        {
          "output_type": "execute_result",
          "data": {
            "text/plain": [
              "tensor([[0.],\n",
              "        [1.],\n",
              "        [2.]])"
            ]
          },
          "metadata": {},
          "execution_count": 17
        }
      ]
    },
    {
      "cell_type": "code",
      "source": [
        "## \n"
      ],
      "metadata": {
        "id": "HLwipkFgzGwF"
      },
      "execution_count": null,
      "outputs": []
    },
    {
      "cell_type": "markdown",
      "source": [
        "## Negative Sampling"
      ],
      "metadata": {
        "id": "SGtKMCoogVQD"
      }
    },
    {
      "cell_type": "code",
      "source": [
        "import string\n",
        "import nltk \n",
        "from nltk.tokenize import word_tokenize\n",
        "nltk.download('punkt')\n",
        "def tokenize(corpus): \n",
        "  return [token for token in word_tokenize(corpus) if token not in string.punctuation]\n"
      ],
      "metadata": {
        "colab": {
          "base_uri": "https://localhost:8080/"
        },
        "id": "HmDXBAcplPKf",
        "outputId": "b50244aa-228e-4707-bb41-e13f7824e15b"
      },
      "execution_count": null,
      "outputs": [
        {
          "output_type": "stream",
          "name": "stderr",
          "text": [
            "[nltk_data] Downloading package punkt to /root/nltk_data...\n",
            "[nltk_data]   Package punkt is already up-to-date!\n"
          ]
        }
      ]
    },
    {
      "cell_type": "code",
      "source": [
        "tokenize(\"New York is awesome!\")"
      ],
      "metadata": {
        "colab": {
          "base_uri": "https://localhost:8080/"
        },
        "id": "RchvXeZHwVFF",
        "outputId": "3787012c-f82b-4411-aee6-7d8e7d6148e6"
      },
      "execution_count": null,
      "outputs": [
        {
          "output_type": "execute_result",
          "data": {
            "text/plain": [
              "['New', 'York', 'is', 'awesome']"
            ]
          },
          "metadata": {},
          "execution_count": 15
        }
      ]
    },
    {
      "cell_type": "code",
      "source": [
        "from urllib.request import urlopen\n",
        "hamlet = urlopen('https://www.gutenberg.org/cache/epub/1524/pg1524.txt').read().decode('utf-8-sig')"
      ],
      "metadata": {
        "id": "98Hua370wXWl"
      },
      "execution_count": null,
      "outputs": []
    },
    {
      "cell_type": "code",
      "source": [
        "tokens = tokenize(hamlet)"
      ],
      "metadata": {
        "id": "vZZSFyvO0z4s"
      },
      "execution_count": null,
      "outputs": []
    },
    {
      "cell_type": "code",
      "source": [
        "from collections import Counter \n",
        "words_count = Counter(tokens)\n",
        "vocab = [word for word, _ in words_count.most_common(400_000)]\n",
        "len(vocab)"
      ],
      "metadata": {
        "colab": {
          "base_uri": "https://localhost:8080/"
        },
        "id": "wh0ffHQA28wp",
        "outputId": "23263f30-e3e3-4041-dbcb-1836705df196"
      },
      "execution_count": null,
      "outputs": [
        {
          "output_type": "execute_result",
          "data": {
            "text/plain": [
              "5860"
            ]
          },
          "metadata": {},
          "execution_count": 49
        }
      ]
    },
    {
      "cell_type": "markdown",
      "source": [
        "Sampling Probability: $P(w) = \\frac{Count(w)^{\\frac{3}{4}}}{Z}$"
      ],
      "metadata": {
        "id": "s5SJu5af6aPN"
      }
    },
    {
      "cell_type": "code",
      "source": [
        "from torch.distributions.multinomial import Multinomial\n",
        "counts = torch.Tensor([count ** (3/4) for _, count in words_count.most_common(400_000)])\n",
        "for word, count in zip(vocab, Multinomial(10, probs=counts).sample()): \n",
        "  if count <= 0: \n",
        "    continue\n",
        "  print(word, int(count))"
      ],
      "metadata": {
        "colab": {
          "base_uri": "https://localhost:8080/"
        },
        "id": "E8CbIIib4oMN",
        "outputId": "1f0a0c1c-8ed6-4596-f2ff-9461766d1dee"
      },
      "execution_count": null,
      "outputs": [
        {
          "output_type": "stream",
          "name": "stdout",
          "text": [
            "HAMLET 1\n",
            "our 1\n",
            "ROSENCRANTZ 1\n",
            "Let 1\n",
            "look 1\n",
            "almost 1\n",
            "b 1\n",
            "honoured 1\n",
            "indifferently 1\n",
            "index 1\n"
          ]
        }
      ]
    },
    {
      "cell_type": "code",
      "source": [
        "def get_negative_samples(k):\n",
        "  negs = []\n",
        "  # Multinomial automatically normalizes probabilities => Z unnecessary \n",
        "  for word, count in zip(vocab, Multinomial(k, probs=counts).sample()): \n",
        "    if count <= 0: \n",
        "      continue\n",
        "    for _ in range(int(count)):\n",
        "      negs.append(word)\n",
        "  return negs"
      ],
      "metadata": {
        "id": "vGXKadPb4soH"
      },
      "execution_count": null,
      "outputs": []
    },
    {
      "cell_type": "code",
      "source": [
        "get_negative_samples(5)"
      ],
      "metadata": {
        "colab": {
          "base_uri": "https://localhost:8080/"
        },
        "id": "bu7kHt4Q-C-G",
        "outputId": "e8b45cde-1a0c-42dc-d72b-815a9b2b3f15"
      },
      "execution_count": null,
      "outputs": [
        {
          "output_type": "execute_result",
          "data": {
            "text/plain": [
              "['of', 'A', 'hall', 'sets', 'quarter']"
            ]
          },
          "metadata": {},
          "execution_count": 74
        }
      ]
    },
    {
      "cell_type": "code",
      "source": [],
      "metadata": {
        "id": "Ii7kVmIp-iNU"
      },
      "execution_count": null,
      "outputs": []
    },
    {
      "cell_type": "markdown",
      "source": [
        "## Run Word2Vec"
      ],
      "metadata": {
        "id": "jTBJ45ai_19j"
      }
    },
    {
      "cell_type": "code",
      "source": [
        "# hyperparameters \n",
        "k = 10 \n"
      ],
      "metadata": {
        "id": "DZ9UooYI_4Kn"
      },
      "execution_count": null,
      "outputs": []
    }
  ]
}