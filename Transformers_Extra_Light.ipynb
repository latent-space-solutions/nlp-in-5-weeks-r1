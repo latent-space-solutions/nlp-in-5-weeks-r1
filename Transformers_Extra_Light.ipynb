{
  "nbformat": 4,
  "nbformat_minor": 0,
  "metadata": {
    "colab": {
      "provenance": [],
      "toc_visible": true
    },
    "kernelspec": {
      "name": "python3",
      "display_name": "Python 3"
    },
    "language_info": {
      "name": "python"
    }
  },
  "cells": [
    {
      "cell_type": "markdown",
      "source": [
        "# Encoder Input Transformation"
      ],
      "metadata": {
        "id": "8YyEek7jYYz2"
      }
    },
    {
      "cell_type": "code",
      "source": [
        "encoder_sequence = \"I love you !\""
      ],
      "metadata": {
        "id": "LSLgk8oUZ0b5"
      },
      "execution_count": 947,
      "outputs": []
    },
    {
      "cell_type": "markdown",
      "source": [
        "## One Hot Tokenization"
      ],
      "metadata": {
        "id": "46g0kbPpYcTa"
      }
    },
    {
      "cell_type": "code",
      "execution_count": null,
      "metadata": {
        "id": "nlHIayoaYH8C"
      },
      "outputs": [],
      "source": [
        "encoder_token_to_idx = {\n",
        "    \"I\": 0,\n",
        "    \"love\": 1,\n",
        "    \"you\": 2,\n",
        "    \"!\": 3,\n",
        "    \"pizza\": 4\n",
        "}\n",
        "\n",
        "encoder_idx_to_token = {idx: token for token, idx in encoder_token_to_idx.items() }\n",
        "encoder_idx_to_token"
      ]
    },
    {
      "cell_type": "markdown",
      "source": [
        "### Pre-Tokenization"
      ],
      "metadata": {
        "id": "pc016IcearBa"
      }
    },
    {
      "cell_type": "code",
      "source": [
        "max_length = 6"
      ],
      "metadata": {
        "id": "4fK_4UuyqozW"
      },
      "execution_count": null,
      "outputs": []
    },
    {
      "cell_type": "code",
      "source": [
        "pre_tokens = [token for token in encoder_sequence.split()]\n",
        "pre_tokens"
      ],
      "metadata": {
        "id": "qyL6icyiauIN"
      },
      "execution_count": null,
      "outputs": []
    },
    {
      "cell_type": "code",
      "source": [
        "oh_encoding = [[0] * len(encoder_token_to_idx) for i in range(max_length)]\n",
        "oh_encoding"
      ],
      "metadata": {
        "id": "GLB8G_AkbBXs"
      },
      "execution_count": null,
      "outputs": []
    },
    {
      "cell_type": "code",
      "source": [
        "for i, token in enumerate(pre_tokens):\n",
        "    j = encoder_token_to_idx[token]\n",
        "    oh_encoding[i][j] = 1\n",
        "\n",
        "oh_encoding"
      ],
      "metadata": {
        "id": "5bVwY1TZZhed"
      },
      "execution_count": null,
      "outputs": []
    },
    {
      "cell_type": "markdown",
      "source": [
        "## Lernable Input Embedding"
      ],
      "metadata": {
        "id": "9Z1Pt_97aJ4v"
      }
    },
    {
      "cell_type": "code",
      "source": [
        "dim = 3  # We want dim < len(encoder_token_to_idx)"
      ],
      "metadata": {
        "id": "NDSNRPxkZ_Af"
      },
      "execution_count": null,
      "outputs": []
    },
    {
      "cell_type": "code",
      "source": [
        "def dot_product_matrix_multiplicaton(matrix_a, matrix_b):\n",
        "    matrix_a_n = len(matrix_a)\n",
        "    matrix_a_m = len(matrix_a[0])\n",
        "    matrix_b_n = len(matrix_b)\n",
        "    matrix_b_m = len(matrix_b[0])\n",
        "\n",
        "    assert matrix_a_m == matrix_b_n, \"please rearrange matrices so that n_cols of matrix_a equals n_row of matrix_b\"\n",
        "\n",
        "    result = []\n",
        "\n",
        "    for i in range(matrix_a_n):\n",
        "        result.append([0] * matrix_b_m)\n",
        "\n",
        "    # For each row in A\n",
        "    for i in range(matrix_a_n):\n",
        "        # For each column in B\n",
        "        for j in range(matrix_b_m):\n",
        "            # For the new Matrix the position i, j is the sum of the individual products \n",
        "            # of these row and column values\n",
        "            for k in range(matrix_b_n):\n",
        "                result[i][j] += matrix_a[i][k] * matrix_b[k][j]\n",
        "\n",
        "    return result"
      ],
      "metadata": {
        "id": "AhmkcN4yZ-7W"
      },
      "execution_count": null,
      "outputs": []
    },
    {
      "cell_type": "code",
      "source": [
        "embedding_transformation = [[ 0.0101,  0.1608, -0.0674],\n",
        "        [-0.2484,  0.2732, -0.2361],\n",
        "        [-0.4152,  0.3621,  0.1320],\n",
        "        [-0.0577, -0.1929,  0.2178],\n",
        "        [-0.3691,  0.1721, -0.3601]]\n",
        "\n",
        "input_embedding = dot_product_matrix_multiplicaton(oh_encoding, embedding_transformation)\n",
        "input_embedding"
      ],
      "metadata": {
        "id": "-dC4fqtLiarv"
      },
      "execution_count": null,
      "outputs": []
    },
    {
      "cell_type": "code",
      "source": [
        "def add_matrices(matrix_a, matrix_b):\n",
        "    matrix_a_n = len(matrix_a)\n",
        "    matrix_a_m = len(matrix_a[0])\n",
        "    matrix_b_n = len(matrix_b)\n",
        "    matrix_b_m = len(matrix_b[0])\n",
        "\n",
        "    # assert matrix_a_n == matrix_b_n and matrix_a_m == matrix_b_m, \"matrices must have equal dimensionality\"\n",
        "\n",
        "    result = []\n",
        "\n",
        "    for row_a, row_b in zip(matrix_a, matrix_b):\n",
        "\n",
        "        row = []\n",
        "        for i in range(len(row_a)):\n",
        "            row.append(row_a[i] + row_b[i])\n",
        "\n",
        "        result.append(row)\n",
        "    \n",
        "    return result"
      ],
      "metadata": {
        "id": "HBIw2dbXWTBu"
      },
      "execution_count": null,
      "outputs": []
    },
    {
      "cell_type": "code",
      "source": [
        "positional_encoding = [[ 1, 0, 0],\n",
        "        [ 0, 1, 0],\n",
        "        [ 0, 0, 1],\n",
        "        [ 1, 1, 0],\n",
        "        [ 1, 0, 1],\n",
        "        [ 1, 1, 1]]\n",
        "\n",
        "\n",
        "input_embedding_with_positional_encoding = add_matrices(\n",
        "    input_embedding, positional_encoding)\n",
        "\n",
        "input_embedding_with_positional_encoding"
      ],
      "metadata": {
        "id": "luqGVn7_p-d8"
      },
      "execution_count": null,
      "outputs": []
    },
    {
      "cell_type": "markdown",
      "source": [
        "# Encoder Layer"
      ],
      "metadata": {
        "id": "mbD_UtLRX7iw"
      }
    },
    {
      "cell_type": "code",
      "source": [
        "latent_space = input_embedding_with_positional_encoding"
      ],
      "metadata": {
        "id": "Yh00kdV8YUGV"
      },
      "execution_count": null,
      "outputs": []
    },
    {
      "cell_type": "markdown",
      "source": [
        "## Keys"
      ],
      "metadata": {
        "id": "PgQSnWgtYKIY"
      }
    },
    {
      "cell_type": "code",
      "source": [
        "k = [[-0.2409, -0.5735,  0.3882],\n",
        "        [ 0.0843, -0.1487,  0.2438],\n",
        "        [ 0.2335, -0.3259, -1.3235]]\n",
        "\n",
        "k = dot_product_matrix_multiplicaton(latent_space, k)\n",
        "k"
      ],
      "metadata": {
        "id": "YQETIWyNYPGy"
      },
      "execution_count": null,
      "outputs": []
    },
    {
      "cell_type": "markdown",
      "source": [
        "## Queries"
      ],
      "metadata": {
        "id": "V_Z1y-gmYLd0"
      }
    },
    {
      "cell_type": "code",
      "source": [
        "q = [[-0.1427,  0.0482, -0.0687],\n",
        "        [-0.2875,  1.1645, -0.4308],\n",
        "        [ 0.5597, -0.2897, -0.2003]]\n",
        "\n",
        "q = dot_product_matrix_multiplicaton(latent_space, q)\n",
        "q"
      ],
      "metadata": {
        "id": "jL_xkUiCYPdT"
      },
      "execution_count": null,
      "outputs": []
    },
    {
      "cell_type": "markdown",
      "source": [
        "## Attention"
      ],
      "metadata": {
        "id": "Zd4rOFbeYNGh"
      }
    },
    {
      "cell_type": "code",
      "source": [
        "def transpose_matrix(matrix):\n",
        "    # https://stackoverflow.com/questions/6473679/transpose-list-of-lists\n",
        "\n",
        "    return list(map(list, zip(*matrix)))"
      ],
      "metadata": {
        "id": "0jdyMXG8ZzTk"
      },
      "execution_count": null,
      "outputs": []
    },
    {
      "cell_type": "code",
      "source": [
        "k_transposed = transpose_matrix(k)\n",
        "k_transposed"
      ],
      "metadata": {
        "id": "FNSZovmAaNYD"
      },
      "execution_count": null,
      "outputs": []
    },
    {
      "cell_type": "code",
      "source": [
        "attention_scores = dot_product_matrix_multiplicaton(q, k_transposed)\n",
        "attention_scores"
      ],
      "metadata": {
        "id": "JV7vK5cVYQBF"
      },
      "execution_count": null,
      "outputs": []
    },
    {
      "cell_type": "code",
      "source": [
        "e = (1 + 1/100000) ** 100000  # hmm\n",
        "\n",
        "def softmax_1d(vector):\n",
        "    exped = [e ** item for item in vector]\n",
        "    total = sum(exped)\n",
        "    return [item / total for item in exped]\n",
        "\n",
        "def softmax_matrix(matrix):\n",
        "    result = []\n",
        "\n",
        "    for row in matrix:\n",
        "        result.append(softmax_1d(row))\n",
        "    \n",
        "    return result"
      ],
      "metadata": {
        "id": "hjv2-TrmbPxx"
      },
      "execution_count": null,
      "outputs": []
    },
    {
      "cell_type": "code",
      "source": [
        "softmax_attention_scores = softmax_matrix(attention_scores)\n",
        "softmax_attention_scores"
      ],
      "metadata": {
        "id": "i0lPSaV2chVy"
      },
      "execution_count": null,
      "outputs": []
    },
    {
      "cell_type": "markdown",
      "source": [
        "## Values"
      ],
      "metadata": {
        "id": "dXQ_9XMiYRGT"
      }
    },
    {
      "cell_type": "code",
      "source": [
        "v = [[ 2.5655, -0.1657, -0.5686],\n",
        "        [-0.3721,  0.4021, -0.0208],\n",
        "        [ 0.2262, -0.5495,  0.4100]]\n",
        "\n",
        "v = dot_product_matrix_multiplicaton(latent_space, v)\n",
        "v"
      ],
      "metadata": {
        "id": "jwu9lWrcYQiq"
      },
      "execution_count": null,
      "outputs": []
    },
    {
      "cell_type": "code",
      "source": [
        "latent_space = dot_product_matrix_multiplicaton(softmax_attention_scores, v)\n",
        "latent_space"
      ],
      "metadata": {
        "id": "ryuYNtMkX3LB"
      },
      "execution_count": null,
      "outputs": []
    },
    {
      "cell_type": "markdown",
      "source": [
        "### Repeat with differnt k, q and v for each Encoder Layer"
      ],
      "metadata": {
        "id": "w9iSS37BdMt0"
      }
    },
    {
      "cell_type": "code",
      "source": [
        "encoder_latent_space = latent_space"
      ],
      "metadata": {
        "id": "IeQ57D85e853"
      },
      "execution_count": null,
      "outputs": []
    },
    {
      "cell_type": "markdown",
      "source": [
        "# Decoder Input Transformation"
      ],
      "metadata": {
        "id": "ZpTSC8Nzdh0k"
      }
    },
    {
      "cell_type": "code",
      "source": [
        "decoder_sequence = \"<sos> Ich\""
      ],
      "metadata": {
        "id": "0sd64QoedL8K"
      },
      "execution_count": null,
      "outputs": []
    },
    {
      "cell_type": "markdown",
      "source": [
        "## One Hot Tokenization"
      ],
      "metadata": {
        "id": "hyxrcAkHeACB"
      }
    },
    {
      "cell_type": "code",
      "execution_count": null,
      "metadata": {
        "id": "YM7rqLdyeACB"
      },
      "outputs": [],
      "source": [
        "decoder_token_to_idx = {\n",
        "    \"Pizza\": 0,\n",
        "    \"Ich\": 1,\n",
        "    \"dich\": 2,\n",
        "    \"liebe\": 3,\n",
        "    \"!\": 4,\n",
        "    \"<sos>\": 5\n",
        "}\n",
        "\n",
        "decoder_idx_to_token = {idx: token for token, idx in decoder_token_to_idx.items() }\n",
        "decoder_idx_to_token"
      ]
    },
    {
      "cell_type": "markdown",
      "source": [
        "### Pre-Tokenization"
      ],
      "metadata": {
        "id": "eWg-pzUdeACB"
      }
    },
    {
      "cell_type": "code",
      "source": [
        "pre_tokens = [token for token in decoder_sequence.split()]\n",
        "pre_tokens"
      ],
      "metadata": {
        "id": "u7O-ICR6eACB"
      },
      "execution_count": null,
      "outputs": []
    },
    {
      "cell_type": "code",
      "source": [
        "oh_encoding = [[0] * len(decoder_token_to_idx) for i in range(max_length)]\n",
        "oh_encoding"
      ],
      "metadata": {
        "id": "x0QZkl1eeACB"
      },
      "execution_count": null,
      "outputs": []
    },
    {
      "cell_type": "code",
      "source": [
        "for i, token in enumerate(pre_tokens):\n",
        "    j = decoder_token_to_idx[token]\n",
        "    oh_encoding[i][j] = 1\n",
        "\n",
        "oh_encoding"
      ],
      "metadata": {
        "id": "LKqTGFdveACC"
      },
      "execution_count": null,
      "outputs": []
    },
    {
      "cell_type": "markdown",
      "source": [
        "## Lernable Input Embedding"
      ],
      "metadata": {
        "id": "d2E6XvdyeACC"
      }
    },
    {
      "cell_type": "code",
      "source": [
        "embedding_transformation = [[ 0.0977, -0.3945, 1.2683],\n",
        "        [ 0.0096, 1.0847,  0.0539],\n",
        "        [-0.3053,  0.2832,  0.2126],\n",
        "        [-0.0951,  0.2297,  0.0180],\n",
        "        [ 0.0416, -0.1804,  0.1314],\n",
        "        [-0.1219, -0.1792,  1.1145]]\n",
        "\n",
        "input_embedding = dot_product_matrix_multiplicaton(oh_encoding, embedding_transformation)\n",
        "input_embedding"
      ],
      "metadata": {
        "id": "3pGFQenZeACD"
      },
      "execution_count": null,
      "outputs": []
    },
    {
      "cell_type": "code",
      "source": [
        "positional_encoding = [[ 1, 0, 0],\n",
        "        [ 0, 1, 0],\n",
        "        [ 0, 0, 1],\n",
        "        [ 1, 1, 0],\n",
        "        [ 1, 0, 1],\n",
        "        [ 1, 1, 1]]\n",
        "\n",
        "\n",
        "input_embedding_with_positional_encoding = add_matrices(\n",
        "    input_embedding, positional_encoding)\n",
        "\n",
        "input_embedding_with_positional_encoding"
      ],
      "metadata": {
        "id": "VOuz81YYeACD"
      },
      "execution_count": null,
      "outputs": []
    },
    {
      "cell_type": "markdown",
      "source": [
        "# Decoder Layer"
      ],
      "metadata": {
        "id": "a26CjC5Se3df"
      }
    },
    {
      "cell_type": "code",
      "source": [
        "encoder_latent_space"
      ],
      "metadata": {
        "id": "lm397ND7fMWg"
      },
      "execution_count": null,
      "outputs": []
    },
    {
      "cell_type": "code",
      "source": [
        "decoder_latent_space = input_embedding_with_positional_encoding\n",
        "decoder_latent_space"
      ],
      "metadata": {
        "id": "7KwBt9o_dw8R"
      },
      "execution_count": null,
      "outputs": []
    },
    {
      "cell_type": "markdown",
      "source": [
        "## Keys"
      ],
      "metadata": {
        "id": "YPLnIqiRfT-b"
      }
    },
    {
      "cell_type": "code",
      "source": [
        "k = [[-0.0857, 0.0989, 0.3189],\n",
        "        [-0.4483, -1.2625,  0.1883],\n",
        "        [-0.0205,  0.1175, -1.0054]]\n",
        "\n",
        "k = dot_product_matrix_multiplicaton(encoder_latent_space, k)\n",
        "k"
      ],
      "metadata": {
        "id": "lGUGX8T9fT-b"
      },
      "execution_count": null,
      "outputs": []
    },
    {
      "cell_type": "markdown",
      "source": [
        "## Queries"
      ],
      "metadata": {
        "id": "3fa4_J8bfT-c"
      }
    },
    {
      "cell_type": "code",
      "source": [
        "q = [[ 0.5223, -0.4201,  0.2190],\n",
        "        [ 0.3426,  0.1201, 1.0258],\n",
        "        [ 0.3770, -0.2533, -0.3659]]\n",
        "\n",
        "q = dot_product_matrix_multiplicaton(latent_space, q)\n",
        "q"
      ],
      "metadata": {
        "id": "TkV8Q3wpfT-c"
      },
      "execution_count": null,
      "outputs": []
    },
    {
      "cell_type": "markdown",
      "source": [
        "## Attention"
      ],
      "metadata": {
        "id": "28l7gDHtfT-c"
      }
    },
    {
      "cell_type": "code",
      "source": [
        "k_transposed = transpose_matrix(k)\n",
        "k_transposed"
      ],
      "metadata": {
        "id": "1efGgYUefT-c"
      },
      "execution_count": null,
      "outputs": []
    },
    {
      "cell_type": "code",
      "source": [
        "attention_scores = dot_product_matrix_multiplicaton(q, k_transposed)\n",
        "attention_scores"
      ],
      "metadata": {
        "id": "PincEQt4fT-c"
      },
      "execution_count": null,
      "outputs": []
    },
    {
      "cell_type": "code",
      "source": [
        "def causalize_attention(attention_scores):\n",
        "    n = len(attention_scores)\n",
        "    m = len(attention_scores[0])\n",
        "\n",
        "    result = []\n",
        "    for i, row in enumerate(attention_scores):\n",
        "        new_row = [0] * len(row)\n",
        "\n",
        "        for j in range(i + 1):\n",
        "            new_row[j] = row[j]\n",
        "\n",
        "        result.append(new_row)\n",
        "\n",
        "    return result"
      ],
      "metadata": {
        "id": "sociwvKCiyJ7"
      },
      "execution_count": null,
      "outputs": []
    },
    {
      "cell_type": "code",
      "source": [
        "attention_scores = causalize_attention(attention_scores)\n",
        "attention_scores"
      ],
      "metadata": {
        "id": "pQN0_AVfjYlN"
      },
      "execution_count": null,
      "outputs": []
    },
    {
      "cell_type": "code",
      "source": [
        "softmax_attention_scores = softmax_matrix(attention_scores)\n",
        "softmax_attention_scores"
      ],
      "metadata": {
        "id": "nTyuEq5ifT-d"
      },
      "execution_count": null,
      "outputs": []
    },
    {
      "cell_type": "markdown",
      "source": [
        "## Values"
      ],
      "metadata": {
        "id": "bs-T2VlAfT-d"
      }
    },
    {
      "cell_type": "code",
      "source": [
        "v = [[-0.3140,  2.4510, -1.5762],\n",
        "        [ 1.2975, -0.1267, 2.5162],\n",
        "        [-0.3554, -0.5260,  2.4740]]\n",
        "\n",
        "v = dot_product_matrix_multiplicaton(encoder_latent_space, v)\n",
        "v"
      ],
      "metadata": {
        "id": "oCxanzmcfT-d"
      },
      "execution_count": null,
      "outputs": []
    },
    {
      "cell_type": "code",
      "source": [
        "decoder_latent_space = dot_product_matrix_multiplicaton(softmax_attention_scores, v)\n",
        "decoder_latent_space"
      ],
      "metadata": {
        "id": "BsG6LBqufT-d"
      },
      "execution_count": null,
      "outputs": []
    },
    {
      "cell_type": "markdown",
      "source": [
        "### Repeat with differnt k, q and v for each Encoder Layer"
      ],
      "metadata": {
        "id": "YRf4Xr80fT-d"
      }
    },
    {
      "cell_type": "code",
      "source": [
        "last_hidden_state = decoder_latent_space"
      ],
      "metadata": {
        "id": "Nx9ErY_YfT-e"
      },
      "execution_count": null,
      "outputs": []
    },
    {
      "cell_type": "markdown",
      "source": [
        "# Language Model Head"
      ],
      "metadata": {
        "id": "q309vjBRfwD7"
      }
    },
    {
      "cell_type": "code",
      "source": [
        "language_model_head_transformation = [[1.2591, 0.2340,  0.2995, -0.3929, 1.2186, -0.2409],\n",
        "        [-0.0096,  -1.0262, -3.1889, -0.2528, -0.0658, -1.1641],\n",
        "        [ 1.2318,  1.0766,  2.3248, -0.2726,  2.3647, -1.0103]]\n",
        "\n",
        "logits = dot_product_matrix_multiplicaton(last_hidden_state, language_model_head_transformation)\n",
        "logits"
      ],
      "metadata": {
        "id": "Bayc7fTydw2s"
      },
      "execution_count": null,
      "outputs": []
    },
    {
      "cell_type": "code",
      "source": [
        "softmax_logits = softmax_matrix(logits)\n",
        "softmax_logits"
      ],
      "metadata": {
        "id": "ZBBJzrpudwzc"
      },
      "execution_count": null,
      "outputs": []
    },
    {
      "cell_type": "code",
      "source": [
        "for i, row in enumerate(softmax_logits):\n",
        "    if i >= len(pre_tokens):\n",
        "        break\n",
        "\n",
        "    row_max = max(row)\n",
        "    idx_max = row.index(row_max)\n",
        "    print(decoder_idx_to_token[idx_max])"
      ],
      "metadata": {
        "id": "7eNMmhTBdwvi"
      },
      "execution_count": null,
      "outputs": []
    },
    {
      "cell_type": "code",
      "source": [],
      "metadata": {
        "id": "GGeHq1ByN_bv"
      },
      "execution_count": null,
      "outputs": []
    }
  ]
}